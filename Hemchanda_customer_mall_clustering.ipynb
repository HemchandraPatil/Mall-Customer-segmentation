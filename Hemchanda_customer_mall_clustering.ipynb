{
 "cells": [
  {
   "cell_type": "code",
   "execution_count": 1,
   "metadata": {},
   "outputs": [],
   "source": [
    "import numpy as np\n",
    "import pandas as pd\n",
    "import matplotlib.pyplot as plt\n",
    "import seaborn as sns"
   ]
  },
  {
   "cell_type": "code",
   "execution_count": 5,
   "metadata": {},
   "outputs": [
    {
     "data": {
      "text/html": [
       "<div>\n",
       "<style scoped>\n",
       "    .dataframe tbody tr th:only-of-type {\n",
       "        vertical-align: middle;\n",
       "    }\n",
       "\n",
       "    .dataframe tbody tr th {\n",
       "        vertical-align: top;\n",
       "    }\n",
       "\n",
       "    .dataframe thead th {\n",
       "        text-align: right;\n",
       "    }\n",
       "</style>\n",
       "<table border=\"1\" class=\"dataframe\">\n",
       "  <thead>\n",
       "    <tr style=\"text-align: right;\">\n",
       "      <th></th>\n",
       "      <th>CustomerID</th>\n",
       "      <th>Gender</th>\n",
       "      <th>Age</th>\n",
       "      <th>Annual Income (k$)</th>\n",
       "      <th>Spending Score (1-100)</th>\n",
       "    </tr>\n",
       "  </thead>\n",
       "  <tbody>\n",
       "    <tr>\n",
       "      <th>0</th>\n",
       "      <td>1</td>\n",
       "      <td>Male</td>\n",
       "      <td>19</td>\n",
       "      <td>15</td>\n",
       "      <td>39</td>\n",
       "    </tr>\n",
       "    <tr>\n",
       "      <th>1</th>\n",
       "      <td>2</td>\n",
       "      <td>Male</td>\n",
       "      <td>21</td>\n",
       "      <td>15</td>\n",
       "      <td>81</td>\n",
       "    </tr>\n",
       "    <tr>\n",
       "      <th>2</th>\n",
       "      <td>3</td>\n",
       "      <td>Female</td>\n",
       "      <td>20</td>\n",
       "      <td>16</td>\n",
       "      <td>6</td>\n",
       "    </tr>\n",
       "    <tr>\n",
       "      <th>3</th>\n",
       "      <td>4</td>\n",
       "      <td>Female</td>\n",
       "      <td>23</td>\n",
       "      <td>16</td>\n",
       "      <td>77</td>\n",
       "    </tr>\n",
       "    <tr>\n",
       "      <th>4</th>\n",
       "      <td>5</td>\n",
       "      <td>Female</td>\n",
       "      <td>31</td>\n",
       "      <td>17</td>\n",
       "      <td>40</td>\n",
       "    </tr>\n",
       "  </tbody>\n",
       "</table>\n",
       "</div>"
      ],
      "text/plain": [
       "   CustomerID  Gender  Age  Annual Income (k$)  Spending Score (1-100)\n",
       "0           1    Male   19                  15                      39\n",
       "1           2    Male   21                  15                      81\n",
       "2           3  Female   20                  16                       6\n",
       "3           4  Female   23                  16                      77\n",
       "4           5  Female   31                  17                      40"
      ]
     },
     "execution_count": 5,
     "metadata": {},
     "output_type": "execute_result"
    }
   ],
   "source": [
    "data = pd.read_csv(\"D:/Mall_Customers.csv\")\n",
    "data.head()"
   ]
  },
  {
   "cell_type": "code",
   "execution_count": 6,
   "metadata": {},
   "outputs": [
    {
     "data": {
      "text/html": [
       "<div>\n",
       "<style scoped>\n",
       "    .dataframe tbody tr th:only-of-type {\n",
       "        vertical-align: middle;\n",
       "    }\n",
       "\n",
       "    .dataframe tbody tr th {\n",
       "        vertical-align: top;\n",
       "    }\n",
       "\n",
       "    .dataframe thead th {\n",
       "        text-align: right;\n",
       "    }\n",
       "</style>\n",
       "<table border=\"1\" class=\"dataframe\">\n",
       "  <thead>\n",
       "    <tr style=\"text-align: right;\">\n",
       "      <th></th>\n",
       "      <th>CustomerID</th>\n",
       "      <th>Gender</th>\n",
       "      <th>Age</th>\n",
       "      <th>Annual Income (k$)</th>\n",
       "      <th>Spending Score (1-100)</th>\n",
       "    </tr>\n",
       "  </thead>\n",
       "  <tbody>\n",
       "    <tr>\n",
       "      <th>195</th>\n",
       "      <td>196</td>\n",
       "      <td>Female</td>\n",
       "      <td>35</td>\n",
       "      <td>120</td>\n",
       "      <td>79</td>\n",
       "    </tr>\n",
       "    <tr>\n",
       "      <th>196</th>\n",
       "      <td>197</td>\n",
       "      <td>Female</td>\n",
       "      <td>45</td>\n",
       "      <td>126</td>\n",
       "      <td>28</td>\n",
       "    </tr>\n",
       "    <tr>\n",
       "      <th>197</th>\n",
       "      <td>198</td>\n",
       "      <td>Male</td>\n",
       "      <td>32</td>\n",
       "      <td>126</td>\n",
       "      <td>74</td>\n",
       "    </tr>\n",
       "    <tr>\n",
       "      <th>198</th>\n",
       "      <td>199</td>\n",
       "      <td>Male</td>\n",
       "      <td>32</td>\n",
       "      <td>137</td>\n",
       "      <td>18</td>\n",
       "    </tr>\n",
       "    <tr>\n",
       "      <th>199</th>\n",
       "      <td>200</td>\n",
       "      <td>Male</td>\n",
       "      <td>30</td>\n",
       "      <td>137</td>\n",
       "      <td>83</td>\n",
       "    </tr>\n",
       "  </tbody>\n",
       "</table>\n",
       "</div>"
      ],
      "text/plain": [
       "     CustomerID  Gender  Age  Annual Income (k$)  Spending Score (1-100)\n",
       "195         196  Female   35                 120                      79\n",
       "196         197  Female   45                 126                      28\n",
       "197         198    Male   32                 126                      74\n",
       "198         199    Male   32                 137                      18\n",
       "199         200    Male   30                 137                      83"
      ]
     },
     "execution_count": 6,
     "metadata": {},
     "output_type": "execute_result"
    }
   ],
   "source": [
    "data.tail()"
   ]
  },
  {
   "cell_type": "code",
   "execution_count": 8,
   "metadata": {},
   "outputs": [
    {
     "data": {
      "text/plain": [
       "(200, 5)"
      ]
     },
     "execution_count": 8,
     "metadata": {},
     "output_type": "execute_result"
    }
   ],
   "source": [
    "data.shape"
   ]
  },
  {
   "cell_type": "code",
   "execution_count": 9,
   "metadata": {},
   "outputs": [
    {
     "name": "stdout",
     "output_type": "stream",
     "text": [
      "<class 'pandas.core.frame.DataFrame'>\n",
      "RangeIndex: 200 entries, 0 to 199\n",
      "Data columns (total 5 columns):\n",
      " #   Column                  Non-Null Count  Dtype \n",
      "---  ------                  --------------  ----- \n",
      " 0   CustomerID              200 non-null    int64 \n",
      " 1   Gender                  200 non-null    object\n",
      " 2   Age                     200 non-null    int64 \n",
      " 3   Annual Income (k$)      200 non-null    int64 \n",
      " 4   Spending Score (1-100)  200 non-null    int64 \n",
      "dtypes: int64(4), object(1)\n",
      "memory usage: 7.9+ KB\n"
     ]
    }
   ],
   "source": [
    "data.info()"
   ]
  },
  {
   "cell_type": "code",
   "execution_count": 10,
   "metadata": {},
   "outputs": [
    {
     "data": {
      "text/html": [
       "<div>\n",
       "<style scoped>\n",
       "    .dataframe tbody tr th:only-of-type {\n",
       "        vertical-align: middle;\n",
       "    }\n",
       "\n",
       "    .dataframe tbody tr th {\n",
       "        vertical-align: top;\n",
       "    }\n",
       "\n",
       "    .dataframe thead th {\n",
       "        text-align: right;\n",
       "    }\n",
       "</style>\n",
       "<table border=\"1\" class=\"dataframe\">\n",
       "  <thead>\n",
       "    <tr style=\"text-align: right;\">\n",
       "      <th></th>\n",
       "      <th>CustomerID</th>\n",
       "      <th>Gender</th>\n",
       "      <th>Age</th>\n",
       "      <th>Annual Income (k$)</th>\n",
       "      <th>Spending Score (1-100)</th>\n",
       "    </tr>\n",
       "  </thead>\n",
       "  <tbody>\n",
       "    <tr>\n",
       "      <th>count</th>\n",
       "      <td>200.000000</td>\n",
       "      <td>200</td>\n",
       "      <td>200.000000</td>\n",
       "      <td>200.000000</td>\n",
       "      <td>200.000000</td>\n",
       "    </tr>\n",
       "    <tr>\n",
       "      <th>unique</th>\n",
       "      <td>NaN</td>\n",
       "      <td>2</td>\n",
       "      <td>NaN</td>\n",
       "      <td>NaN</td>\n",
       "      <td>NaN</td>\n",
       "    </tr>\n",
       "    <tr>\n",
       "      <th>top</th>\n",
       "      <td>NaN</td>\n",
       "      <td>Female</td>\n",
       "      <td>NaN</td>\n",
       "      <td>NaN</td>\n",
       "      <td>NaN</td>\n",
       "    </tr>\n",
       "    <tr>\n",
       "      <th>freq</th>\n",
       "      <td>NaN</td>\n",
       "      <td>112</td>\n",
       "      <td>NaN</td>\n",
       "      <td>NaN</td>\n",
       "      <td>NaN</td>\n",
       "    </tr>\n",
       "    <tr>\n",
       "      <th>mean</th>\n",
       "      <td>100.500000</td>\n",
       "      <td>NaN</td>\n",
       "      <td>38.850000</td>\n",
       "      <td>60.560000</td>\n",
       "      <td>50.200000</td>\n",
       "    </tr>\n",
       "    <tr>\n",
       "      <th>std</th>\n",
       "      <td>57.879185</td>\n",
       "      <td>NaN</td>\n",
       "      <td>13.969007</td>\n",
       "      <td>26.264721</td>\n",
       "      <td>25.823522</td>\n",
       "    </tr>\n",
       "    <tr>\n",
       "      <th>min</th>\n",
       "      <td>1.000000</td>\n",
       "      <td>NaN</td>\n",
       "      <td>18.000000</td>\n",
       "      <td>15.000000</td>\n",
       "      <td>1.000000</td>\n",
       "    </tr>\n",
       "    <tr>\n",
       "      <th>25%</th>\n",
       "      <td>50.750000</td>\n",
       "      <td>NaN</td>\n",
       "      <td>28.750000</td>\n",
       "      <td>41.500000</td>\n",
       "      <td>34.750000</td>\n",
       "    </tr>\n",
       "    <tr>\n",
       "      <th>50%</th>\n",
       "      <td>100.500000</td>\n",
       "      <td>NaN</td>\n",
       "      <td>36.000000</td>\n",
       "      <td>61.500000</td>\n",
       "      <td>50.000000</td>\n",
       "    </tr>\n",
       "    <tr>\n",
       "      <th>75%</th>\n",
       "      <td>150.250000</td>\n",
       "      <td>NaN</td>\n",
       "      <td>49.000000</td>\n",
       "      <td>78.000000</td>\n",
       "      <td>73.000000</td>\n",
       "    </tr>\n",
       "    <tr>\n",
       "      <th>max</th>\n",
       "      <td>200.000000</td>\n",
       "      <td>NaN</td>\n",
       "      <td>70.000000</td>\n",
       "      <td>137.000000</td>\n",
       "      <td>99.000000</td>\n",
       "    </tr>\n",
       "  </tbody>\n",
       "</table>\n",
       "</div>"
      ],
      "text/plain": [
       "        CustomerID  Gender         Age  Annual Income (k$)  \\\n",
       "count   200.000000     200  200.000000          200.000000   \n",
       "unique         NaN       2         NaN                 NaN   \n",
       "top            NaN  Female         NaN                 NaN   \n",
       "freq           NaN     112         NaN                 NaN   \n",
       "mean    100.500000     NaN   38.850000           60.560000   \n",
       "std      57.879185     NaN   13.969007           26.264721   \n",
       "min       1.000000     NaN   18.000000           15.000000   \n",
       "25%      50.750000     NaN   28.750000           41.500000   \n",
       "50%     100.500000     NaN   36.000000           61.500000   \n",
       "75%     150.250000     NaN   49.000000           78.000000   \n",
       "max     200.000000     NaN   70.000000          137.000000   \n",
       "\n",
       "        Spending Score (1-100)  \n",
       "count               200.000000  \n",
       "unique                     NaN  \n",
       "top                        NaN  \n",
       "freq                       NaN  \n",
       "mean                 50.200000  \n",
       "std                  25.823522  \n",
       "min                   1.000000  \n",
       "25%                  34.750000  \n",
       "50%                  50.000000  \n",
       "75%                  73.000000  \n",
       "max                  99.000000  "
      ]
     },
     "execution_count": 10,
     "metadata": {},
     "output_type": "execute_result"
    }
   ],
   "source": [
    "data.describe(include='all')"
   ]
  },
  {
   "cell_type": "markdown",
   "metadata": {},
   "source": [
    "#### Observations:\n",
    "1. customerID data is evenly distributed.\n",
    "2. Gender data has 2 unique values male and female. Mostly female customer are present in the data.\n",
    "3. Age data is right skewed.\n",
    "4. Outliers is present in the data."
   ]
  },
  {
   "cell_type": "code",
   "execution_count": 11,
   "metadata": {},
   "outputs": [
    {
     "data": {
      "text/plain": [
       "CustomerID                0\n",
       "Gender                    0\n",
       "Age                       0\n",
       "Annual Income (k$)        0\n",
       "Spending Score (1-100)    0\n",
       "dtype: int64"
      ]
     },
     "execution_count": 11,
     "metadata": {},
     "output_type": "execute_result"
    }
   ],
   "source": [
    "# Check for missing values.\n",
    "data.isna().sum()"
   ]
  },
  {
   "cell_type": "code",
   "execution_count": 12,
   "metadata": {},
   "outputs": [
    {
     "data": {
      "text/plain": [
       "<AxesSubplot:ylabel='Age'>"
      ]
     },
     "execution_count": 12,
     "metadata": {},
     "output_type": "execute_result"
    },
    {
     "data": {
      "image/png": "[encoded data removed]",
      "text/plain": [
       "<Figure size 432x288 with 1 Axes>"
      ]
     },
     "metadata": {
      "needs_background": "light"
     },
     "output_type": "display_data"
    }
   ],
   "source": [
    "# checking for outliers\n",
    "sns.boxplot(y = data['Age'])"
   ]
  },
  {
   "cell_type": "code",
   "execution_count": 117,
   "metadata": {},
   "outputs": [
    {
     "name": "stderr",
     "output_type": "stream",
     "text": [
      "C:\\Users\\Hemchandra\\anaconda3\\lib\\site-packages\\seaborn\\distributions.py:2551: FutureWarning: `distplot` is a deprecated function and will be removed in a future version. Please adapt your code to use either `displot` (a figure-level function with similar flexibility) or `histplot` (an axes-level function for histograms).\n",
      "  warnings.warn(msg, FutureWarning)\n"
     ]
    },
    {
     "data": {
      "text/plain": [
       "<AxesSubplot:ylabel='Density'>"
      ]
     },
     "execution_count": 117,
     "metadata": {},
     "output_type": "execute_result"
    },
    {
     "data": {
      "image/png": "[encoded data removed]",
      "text/plain": [
       "<Figure size 432x288 with 1 Axes>"
      ]
     },
     "metadata": {
      "needs_background": "light"
     },
     "output_type": "display_data"
    }
   ],
   "source": [
    "sns.distplot(x=data['Age'])"
   ]
  },
  {
   "cell_type": "code",
   "execution_count": 13,
   "metadata": {},
   "outputs": [
    {
     "data": {
      "text/plain": [
       "<AxesSubplot:ylabel='Annual Income (k$)'>"
      ]
     },
     "execution_count": 13,
     "metadata": {},
     "output_type": "execute_result"
    },
    {
     "data": {
      "image/png": "[encoded data removed]",
      "text/plain": [
       "<Figure size 432x288 with 1 Axes>"
      ]
     },
     "metadata": {
      "needs_background": "light"
     },
     "output_type": "display_data"
    }
   ],
   "source": [
    "sns.boxplot(y = data['Annual Income (k$)'])"
   ]
  },
  {
   "cell_type": "code",
   "execution_count": 20,
   "metadata": {},
   "outputs": [
    {
     "name": "stderr",
     "output_type": "stream",
     "text": [
      "C:\\Users\\Hemchandra\\anaconda3\\lib\\site-packages\\seaborn\\distributions.py:2551: FutureWarning: `distplot` is a deprecated function and will be removed in a future version. Please adapt your code to use either `displot` (a figure-level function with similar flexibility) or `histplot` (an axes-level function for histograms).\n",
      "  warnings.warn(msg, FutureWarning)\n"
     ]
    },
    {
     "data": {
      "text/plain": [
       "<AxesSubplot:ylabel='Density'>"
      ]
     },
     "execution_count": 20,
     "metadata": {},
     "output_type": "execute_result"
    },
    {
     "data": {
      "image/png": "[encoded data removed]",
      "text/plain": [
       "<Figure size 432x288 with 1 Axes>"
      ]
     },
     "metadata": {
      "needs_background": "light"
     },
     "output_type": "display_data"
    }
   ],
   "source": [
    "sns.distplot(x = data['Annual Income (k$)'])"
   ]
  },
  {
   "cell_type": "code",
   "execution_count": 21,
   "metadata": {},
   "outputs": [],
   "source": [
    "Q1 = data['Annual Income (k$)'].quantile(0.25)\n",
    "Q3 = data['Annual Income (k$)'].quantile(0.75)\n",
    "IQR = Q3 - Q1"
   ]
  },
  {
   "cell_type": "code",
   "execution_count": 22,
   "metadata": {},
   "outputs": [
    {
     "name": "stdout",
     "output_type": "stream",
     "text": [
      "lower limit is -13.25\n",
      "upper limit is 132.75\n"
     ]
    }
   ],
   "source": [
    "# As we know that we can take value upper range of (Q1-1.5*QPR, Q3+1.5*QPR)\n",
    "lower_limit = Q1 - 1.5 * IQR\n",
    "upper_limit = Q3 + 1.5 * IQR\n",
    "print('lower limit is', lower_limit)\n",
    "print('upper limit is', upper_limit)"
   ]
  },
  {
   "cell_type": "code",
   "execution_count": 23,
   "metadata": {},
   "outputs": [
    {
     "name": "stdout",
     "output_type": "stream",
     "text": [
      " outlier in the dataset is [137, 137]\n"
     ]
    }
   ],
   "source": [
    "outliers_detected = []\n",
    "for x in data['Annual Income (k$)']:\n",
    "    if ((x> upper_limit) or (x<lower_limit)):\n",
    "         outliers_detected.append(x)\n",
    "print(' outlier in the dataset is', outliers_detected)"
   ]
  },
  {
   "cell_type": "code",
   "execution_count": 24,
   "metadata": {},
   "outputs": [],
   "source": [
    "# replacing it with the median value \n",
    "data.loc[data['Annual Income (k$)'] >= 137, 'Annual Income (k$)'] = data[\"Annual Income (k$)\"].median()"
   ]
  },
  {
   "cell_type": "code",
   "execution_count": 14,
   "metadata": {},
   "outputs": [
    {
     "data": {
      "text/plain": [
       "<AxesSubplot:ylabel='Spending Score (1-100)'>"
      ]
     },
     "execution_count": 14,
     "metadata": {},
     "output_type": "execute_result"
    },
    {
     "data": {
      "image/png": "[encoded data removed]",
      "text/plain": [
       "<Figure size 432x288 with 1 Axes>"
      ]
     },
     "metadata": {
      "needs_background": "light"
     },
     "output_type": "display_data"
    }
   ],
   "source": [
    "sns.boxplot(y = data['Spending Score (1-100)'])"
   ]
  },
  {
   "cell_type": "code",
   "execution_count": 118,
   "metadata": {},
   "outputs": [
    {
     "name": "stderr",
     "output_type": "stream",
     "text": [
      "C:\\Users\\Hemchandra\\anaconda3\\lib\\site-packages\\seaborn\\distributions.py:2551: FutureWarning: `distplot` is a deprecated function and will be removed in a future version. Please adapt your code to use either `displot` (a figure-level function with similar flexibility) or `histplot` (an axes-level function for histograms).\n",
      "  warnings.warn(msg, FutureWarning)\n"
     ]
    },
    {
     "data": {
      "text/plain": [
       "<AxesSubplot:ylabel='Density'>"
      ]
     },
     "execution_count": 118,
     "metadata": {},
     "output_type": "execute_result"
    },
    {
     "data": {
      "image/png": "[encoded data removed]",
      "text/plain": [
       "<Figure size 432x288 with 1 Axes>"
      ]
     },
     "metadata": {
      "needs_background": "light"
     },
     "output_type": "display_data"
    }
   ],
   "source": [
    "sns.distplot(x=data['Spending Score (1-100)'])"
   ]
  },
  {
   "cell_type": "code",
   "execution_count": 27,
   "metadata": {},
   "outputs": [
    {
     "data": {
      "text/plain": [
       "<AxesSubplot:xlabel='Gender', ylabel='count'>"
      ]
     },
     "execution_count": 27,
     "metadata": {},
     "output_type": "execute_result"
    },
    {
     "data": {
      "image/png": "[encoded data removed]",
      "text/plain": [
       "<Figure size 432x288 with 1 Axes>"
      ]
     },
     "metadata": {
      "needs_background": "light"
     },
     "output_type": "display_data"
    }
   ],
   "source": [
    "# Countplot for gender\n",
    "sns.countplot(x=data['Gender'])"
   ]
  },
  {
   "cell_type": "code",
   "execution_count": 26,
   "metadata": {},
   "outputs": [
    {
     "data": {
      "text/plain": [
       "<AxesSubplot:xlabel='Annual Income (k$)', ylabel='Spending Score (1-100)'>"
      ]
     },
     "execution_count": 26,
     "metadata": {},
     "output_type": "execute_result"
    },
    {
     "data": {
      "image/png": "[encoded data removed]",
      "text/plain": [
       "<Figure size 432x288 with 1 Axes>"
      ]
     },
     "metadata": {
      "needs_background": "light"
     },
     "output_type": "display_data"
    }
   ],
   "source": [
    "# Visualization between annual income and spending score\n",
    "sns.scatterplot(x= data['Annual Income (k$)'], y = data['Spending Score (1-100)'])"
   ]
  },
  {
   "cell_type": "code",
   "execution_count": 32,
   "metadata": {},
   "outputs": [],
   "source": [
    "cust = data['Gender']\n",
    "\n",
    "del data['Gender']"
   ]
  },
  {
   "cell_type": "code",
   "execution_count": 33,
   "metadata": {},
   "outputs": [
    {
     "data": {
      "text/plain": [
       "array([[  1. ,  19. ,  15. ,  39. ],\n",
       "       [  2. ,  21. ,  15. ,  81. ],\n",
       "       [  3. ,  20. ,  16. ,   6. ],\n",
       "       [  4. ,  23. ,  16. ,  77. ],\n",
       "       [  5. ,  31. ,  17. ,  40. ],\n",
       "       [  6. ,  22. ,  17. ,  76. ],\n",
       "       [  7. ,  35. ,  18. ,   6. ],\n",
       "       [  8. ,  23. ,  18. ,  94. ],\n",
       "       [  9. ,  64. ,  19. ,   3. ],\n",
       "       [ 10. ,  30. ,  19. ,  72. ],\n",
       "       [ 11. ,  67. ,  19. ,  14. ],\n",
       "       [ 12. ,  35. ,  19. ,  99. ],\n",
       "       [ 13. ,  58. ,  20. ,  15. ],\n",
       "       [ 14. ,  24. ,  20. ,  77. ],\n",
       "       [ 15. ,  37. ,  20. ,  13. ],\n",
       "       [ 16. ,  22. ,  20. ,  79. ],\n",
       "       [ 17. ,  35. ,  21. ,  35. ],\n",
       "       [ 18. ,  20. ,  21. ,  66. ],\n",
       "       [ 19. ,  52. ,  23. ,  29. ],\n",
       "       [ 20. ,  35. ,  23. ,  98. ],\n",
       "       [ 21. ,  35. ,  24. ,  35. ],\n",
       "       [ 22. ,  25. ,  24. ,  73. ],\n",
       "       [ 23. ,  46. ,  25. ,   5. ],\n",
       "       [ 24. ,  31. ,  25. ,  73. ],\n",
       "       [ 25. ,  54. ,  28. ,  14. ],\n",
       "       [ 26. ,  29. ,  28. ,  82. ],\n",
       "       [ 27. ,  45. ,  28. ,  32. ],\n",
       "       [ 28. ,  35. ,  28. ,  61. ],\n",
       "       [ 29. ,  40. ,  29. ,  31. ],\n",
       "       [ 30. ,  23. ,  29. ,  87. ],\n",
       "       [ 31. ,  60. ,  30. ,   4. ],\n",
       "       [ 32. ,  21. ,  30. ,  73. ],\n",
       "       [ 33. ,  53. ,  33. ,   4. ],\n",
       "       [ 34. ,  18. ,  33. ,  92. ],\n",
       "       [ 35. ,  49. ,  33. ,  14. ],\n",
       "       [ 36. ,  21. ,  33. ,  81. ],\n",
       "       [ 37. ,  42. ,  34. ,  17. ],\n",
       "       [ 38. ,  30. ,  34. ,  73. ],\n",
       "       [ 39. ,  36. ,  37. ,  26. ],\n",
       "       [ 40. ,  20. ,  37. ,  75. ],\n",
       "       [ 41. ,  65. ,  38. ,  35. ],\n",
       "       [ 42. ,  24. ,  38. ,  92. ],\n",
       "       [ 43. ,  48. ,  39. ,  36. ],\n",
       "       [ 44. ,  31. ,  39. ,  61. ],\n",
       "       [ 45. ,  49. ,  39. ,  28. ],\n",
       "       [ 46. ,  24. ,  39. ,  65. ],\n",
       "       [ 47. ,  50. ,  40. ,  55. ],\n",
       "       [ 48. ,  27. ,  40. ,  47. ],\n",
       "       [ 49. ,  29. ,  40. ,  42. ],\n",
       "       [ 50. ,  31. ,  40. ,  42. ],\n",
       "       [ 51. ,  49. ,  42. ,  52. ],\n",
       "       [ 52. ,  33. ,  42. ,  60. ],\n",
       "       [ 53. ,  31. ,  43. ,  54. ],\n",
       "       [ 54. ,  59. ,  43. ,  60. ],\n",
       "       [ 55. ,  50. ,  43. ,  45. ],\n",
       "       [ 56. ,  47. ,  43. ,  41. ],\n",
       "       [ 57. ,  51. ,  44. ,  50. ],\n",
       "       [ 58. ,  69. ,  44. ,  46. ],\n",
       "       [ 59. ,  27. ,  46. ,  51. ],\n",
       "       [ 60. ,  53. ,  46. ,  46. ],\n",
       "       [ 61. ,  70. ,  46. ,  56. ],\n",
       "       [ 62. ,  19. ,  46. ,  55. ],\n",
       "       [ 63. ,  67. ,  47. ,  52. ],\n",
       "       [ 64. ,  54. ,  47. ,  59. ],\n",
       "       [ 65. ,  63. ,  48. ,  51. ],\n",
       "       [ 66. ,  18. ,  48. ,  59. ],\n",
       "       [ 67. ,  43. ,  48. ,  50. ],\n",
       "       [ 68. ,  68. ,  48. ,  48. ],\n",
       "       [ 69. ,  19. ,  48. ,  59. ],\n",
       "       [ 70. ,  32. ,  48. ,  47. ],\n",
       "       [ 71. ,  70. ,  49. ,  55. ],\n",
       "       [ 72. ,  47. ,  49. ,  42. ],\n",
       "       [ 73. ,  60. ,  50. ,  49. ],\n",
       "       [ 74. ,  60. ,  50. ,  56. ],\n",
       "       [ 75. ,  59. ,  54. ,  47. ],\n",
       "       [ 76. ,  26. ,  54. ,  54. ],\n",
       "       [ 77. ,  45. ,  54. ,  53. ],\n",
       "       [ 78. ,  40. ,  54. ,  48. ],\n",
       "       [ 79. ,  23. ,  54. ,  52. ],\n",
       "       [ 80. ,  49. ,  54. ,  42. ],\n",
       "       [ 81. ,  57. ,  54. ,  51. ],\n",
       "       [ 82. ,  38. ,  54. ,  55. ],\n",
       "       [ 83. ,  67. ,  54. ,  41. ],\n",
       "       [ 84. ,  46. ,  54. ,  44. ],\n",
       "       [ 85. ,  21. ,  54. ,  57. ],\n",
       "       [ 86. ,  48. ,  54. ,  46. ],\n",
       "       [ 87. ,  55. ,  57. ,  58. ],\n",
       "       [ 88. ,  22. ,  57. ,  55. ],\n",
       "       [ 89. ,  34. ,  58. ,  60. ],\n",
       "       [ 90. ,  50. ,  58. ,  46. ],\n",
       "       [ 91. ,  68. ,  59. ,  55. ],\n",
       "       [ 92. ,  18. ,  59. ,  41. ],\n",
       "       [ 93. ,  48. ,  60. ,  49. ],\n",
       "       [ 94. ,  40. ,  60. ,  40. ],\n",
       "       [ 95. ,  32. ,  60. ,  42. ],\n",
       "       [ 96. ,  24. ,  60. ,  52. ],\n",
       "       [ 97. ,  47. ,  60. ,  47. ],\n",
       "       [ 98. ,  27. ,  60. ,  50. ],\n",
       "       [ 99. ,  48. ,  61. ,  42. ],\n",
       "       [100. ,  20. ,  61. ,  49. ],\n",
       "       [101. ,  23. ,  62. ,  41. ],\n",
       "       [102. ,  49. ,  62. ,  48. ],\n",
       "       [103. ,  67. ,  62. ,  59. ],\n",
       "       [104. ,  26. ,  62. ,  55. ],\n",
       "       [105. ,  49. ,  62. ,  56. ],\n",
       "       [106. ,  21. ,  62. ,  42. ],\n",
       "       [107. ,  66. ,  63. ,  50. ],\n",
       "       [108. ,  54. ,  63. ,  46. ],\n",
       "       [109. ,  68. ,  63. ,  43. ],\n",
       "       [110. ,  66. ,  63. ,  48. ],\n",
       "       [111. ,  65. ,  63. ,  52. ],\n",
       "       [112. ,  19. ,  63. ,  54. ],\n",
       "       [113. ,  38. ,  64. ,  42. ],\n",
       "       [114. ,  19. ,  64. ,  46. ],\n",
       "       [115. ,  18. ,  65. ,  48. ],\n",
       "       [116. ,  19. ,  65. ,  50. ],\n",
       "       [117. ,  63. ,  65. ,  43. ],\n",
       "       [118. ,  49. ,  65. ,  59. ],\n",
       "       [119. ,  51. ,  67. ,  43. ],\n",
       "       [120. ,  50. ,  67. ,  57. ],\n",
       "       [121. ,  27. ,  67. ,  56. ],\n",
       "       [122. ,  38. ,  67. ,  40. ],\n",
       "       [123. ,  40. ,  69. ,  58. ],\n",
       "       [124. ,  39. ,  69. ,  91. ],\n",
       "       [125. ,  23. ,  70. ,  29. ],\n",
       "       [126. ,  31. ,  70. ,  77. ],\n",
       "       [127. ,  43. ,  71. ,  35. ],\n",
       "       [128. ,  40. ,  71. ,  95. ],\n",
       "       [129. ,  59. ,  71. ,  11. ],\n",
       "       [130. ,  38. ,  71. ,  75. ],\n",
       "       [131. ,  47. ,  71. ,   9. ],\n",
       "       [132. ,  39. ,  71. ,  75. ],\n",
       "       [133. ,  25. ,  72. ,  34. ],\n",
       "       [134. ,  31. ,  72. ,  71. ],\n",
       "       [135. ,  20. ,  73. ,   5. ],\n",
       "       [136. ,  29. ,  73. ,  88. ],\n",
       "       [137. ,  44. ,  73. ,   7. ],\n",
       "       [138. ,  32. ,  73. ,  73. ],\n",
       "       [139. ,  19. ,  74. ,  10. ],\n",
       "       [140. ,  35. ,  74. ,  72. ],\n",
       "       [141. ,  57. ,  75. ,   5. ],\n",
       "       [142. ,  32. ,  75. ,  93. ],\n",
       "       [143. ,  28. ,  76. ,  40. ],\n",
       "       [144. ,  32. ,  76. ,  87. ],\n",
       "       [145. ,  25. ,  77. ,  12. ],\n",
       "       [146. ,  28. ,  77. ,  97. ],\n",
       "       [147. ,  48. ,  77. ,  36. ],\n",
       "       [148. ,  32. ,  77. ,  74. ],\n",
       "       [149. ,  34. ,  78. ,  22. ],\n",
       "       [150. ,  34. ,  78. ,  90. ],\n",
       "       [151. ,  43. ,  78. ,  17. ],\n",
       "       [152. ,  39. ,  78. ,  88. ],\n",
       "       [153. ,  44. ,  78. ,  20. ],\n",
       "       [154. ,  38. ,  78. ,  76. ],\n",
       "       [155. ,  47. ,  78. ,  16. ],\n",
       "       [156. ,  27. ,  78. ,  89. ],\n",
       "       [157. ,  37. ,  78. ,   1. ],\n",
       "       [158. ,  30. ,  78. ,  78. ],\n",
       "       [159. ,  34. ,  78. ,   1. ],\n",
       "       [160. ,  30. ,  78. ,  73. ],\n",
       "       [161. ,  56. ,  79. ,  35. ],\n",
       "       [162. ,  29. ,  79. ,  83. ],\n",
       "       [163. ,  19. ,  81. ,   5. ],\n",
       "       [164. ,  31. ,  81. ,  93. ],\n",
       "       [165. ,  50. ,  85. ,  26. ],\n",
       "       [166. ,  36. ,  85. ,  75. ],\n",
       "       [167. ,  42. ,  86. ,  20. ],\n",
       "       [168. ,  33. ,  86. ,  95. ],\n",
       "       [169. ,  36. ,  87. ,  27. ],\n",
       "       [170. ,  32. ,  87. ,  63. ],\n",
       "       [171. ,  40. ,  87. ,  13. ],\n",
       "       [172. ,  28. ,  87. ,  75. ],\n",
       "       [173. ,  36. ,  87. ,  10. ],\n",
       "       [174. ,  36. ,  87. ,  92. ],\n",
       "       [175. ,  52. ,  88. ,  13. ],\n",
       "       [176. ,  30. ,  88. ,  86. ],\n",
       "       [177. ,  58. ,  88. ,  15. ],\n",
       "       [178. ,  27. ,  88. ,  69. ],\n",
       "       [179. ,  59. ,  93. ,  14. ],\n",
       "       [180. ,  35. ,  93. ,  90. ],\n",
       "       [181. ,  37. ,  97. ,  32. ],\n",
       "       [182. ,  32. ,  97. ,  86. ],\n",
       "       [183. ,  46. ,  98. ,  15. ],\n",
       "       [184. ,  29. ,  98. ,  88. ],\n",
       "       [185. ,  41. ,  99. ,  39. ],\n",
       "       [186. ,  30. ,  99. ,  97. ],\n",
       "       [187. ,  54. , 101. ,  24. ],\n",
       "       [188. ,  28. , 101. ,  68. ],\n",
       "       [189. ,  41. , 103. ,  17. ],\n",
       "       [190. ,  36. , 103. ,  85. ],\n",
       "       [191. ,  34. , 103. ,  23. ],\n",
       "       [192. ,  32. , 103. ,  69. ],\n",
       "       [193. ,  33. , 113. ,   8. ],\n",
       "       [194. ,  38. , 113. ,  91. ],\n",
       "       [195. ,  47. , 120. ,  16. ],\n",
       "       [196. ,  35. , 120. ,  79. ],\n",
       "       [197. ,  45. , 126. ,  28. ],\n",
       "       [198. ,  32. , 126. ,  74. ],\n",
       "       [199. ,  32. ,  61.5,  18. ],\n",
       "       [200. ,  30. ,  61.5,  83. ]])"
      ]
     },
     "execution_count": 33,
     "metadata": {},
     "output_type": "execute_result"
    }
   ],
   "source": [
    "samples = data.values\n",
    "samples"
   ]
  },
  {
   "cell_type": "markdown",
   "metadata": {},
   "source": [
    "# K-means clustering"
   ]
  },
  {
   "cell_type": "code",
   "execution_count": 34,
   "metadata": {},
   "outputs": [],
   "source": [
    "from sklearn.cluster import KMeans"
   ]
  },
  {
   "cell_type": "code",
   "execution_count": 35,
   "metadata": {},
   "outputs": [],
   "source": [
    "# For finding number of cluster we will use Elbow method\n",
    "ks = range(1,10)\n",
    "inertias = []\n",
    "\n",
    "for k in ks:\n",
    "    # Create a kmeans instance with k cluster: mode\n",
    "    model = KMeans(n_clusters=k)\n",
    "    \n",
    "    #fit the model to samples\n",
    "    model.fit(samples)\n",
    "    \n",
    "    # Append the inertia to the list of inertias\n",
    "    inertias.append(model.inertia_)"
   ]
  },
  {
   "cell_type": "code",
   "execution_count": 36,
   "metadata": {},
   "outputs": [
    {
     "data": {
      "image/png": "[encoded data removed]",
      "text/plain": [
       "<Figure size 432x288 with 1 Axes>"
      ]
     },
     "metadata": {
      "needs_background": "light"
     },
     "output_type": "display_data"
    }
   ],
   "source": [
    "# plot ks vs inertia/WSS\n",
    "plt.plot(ks,inertias, '-o')\n",
    "plt.xlabel(\"Number of cluster k\")\n",
    "plt.ylabel(\"Inertias/WSS\")\n",
    "plt.xticks(ks)\n",
    "plt.show()"
   ]
  },
  {
   "cell_type": "markdown",
   "metadata": {},
   "source": [
    "So it looks like at 5, there is break so number of cluster can be five so we will plot the graph using number of cluster as k=5."
   ]
  },
  {
   "cell_type": "code",
   "execution_count": 37,
   "metadata": {},
   "outputs": [],
   "source": [
    "model = KMeans(n_clusters=5)"
   ]
  },
  {
   "cell_type": "code",
   "execution_count": 38,
   "metadata": {},
   "outputs": [],
   "source": [
    "labels = model.fit_predict(samples)"
   ]
  },
  {
   "cell_type": "code",
   "execution_count": 39,
   "metadata": {},
   "outputs": [
    {
     "data": {
      "text/plain": [
       "array([2, 2, 4, 2, 4])"
      ]
     },
     "execution_count": 39,
     "metadata": {},
     "output_type": "execute_result"
    }
   ],
   "source": [
    "labels[:5]"
   ]
  },
  {
   "cell_type": "code",
   "execution_count": 40,
   "metadata": {},
   "outputs": [],
   "source": [
    "df = pd.DataFrame({'labels':labels,'customers':cust})"
   ]
  },
  {
   "cell_type": "code",
   "execution_count": 41,
   "metadata": {},
   "outputs": [],
   "source": [
    "ct = pd.crosstab(df['labels'],df['customers'])"
   ]
  },
  {
   "cell_type": "code",
   "execution_count": 42,
   "metadata": {},
   "outputs": [
    {
     "data": {
      "text/html": [
       "<div>\n",
       "<style scoped>\n",
       "    .dataframe tbody tr th:only-of-type {\n",
       "        vertical-align: middle;\n",
       "    }\n",
       "\n",
       "    .dataframe tbody tr th {\n",
       "        vertical-align: top;\n",
       "    }\n",
       "\n",
       "    .dataframe thead th {\n",
       "        text-align: right;\n",
       "    }\n",
       "</style>\n",
       "<table border=\"1\" class=\"dataframe\">\n",
       "  <thead>\n",
       "    <tr style=\"text-align: right;\">\n",
       "      <th>customers</th>\n",
       "      <th>Female</th>\n",
       "      <th>Male</th>\n",
       "    </tr>\n",
       "    <tr>\n",
       "      <th>labels</th>\n",
       "      <th></th>\n",
       "      <th></th>\n",
       "    </tr>\n",
       "  </thead>\n",
       "  <tbody>\n",
       "    <tr>\n",
       "      <th>0</th>\n",
       "      <td>38</td>\n",
       "      <td>28</td>\n",
       "    </tr>\n",
       "    <tr>\n",
       "      <th>1</th>\n",
       "      <td>17</td>\n",
       "      <td>19</td>\n",
       "    </tr>\n",
       "    <tr>\n",
       "      <th>2</th>\n",
       "      <td>14</td>\n",
       "      <td>11</td>\n",
       "    </tr>\n",
       "    <tr>\n",
       "      <th>3</th>\n",
       "      <td>21</td>\n",
       "      <td>18</td>\n",
       "    </tr>\n",
       "    <tr>\n",
       "      <th>4</th>\n",
       "      <td>22</td>\n",
       "      <td>12</td>\n",
       "    </tr>\n",
       "  </tbody>\n",
       "</table>\n",
       "</div>"
      ],
      "text/plain": [
       "customers  Female  Male\n",
       "labels                 \n",
       "0              38    28\n",
       "1              17    19\n",
       "2              14    11\n",
       "3              21    18\n",
       "4              22    12"
      ]
     },
     "execution_count": 42,
     "metadata": {},
     "output_type": "execute_result"
    }
   ],
   "source": [
    "ct"
   ]
  },
  {
   "cell_type": "code",
   "execution_count": 130,
   "metadata": {},
   "outputs": [],
   "source": [
    "clustering_data = data.iloc[:,[2,3]].values"
   ]
  },
  {
   "cell_type": "code",
   "execution_count": 50,
   "metadata": {},
   "outputs": [],
   "source": [
    "y = model.fit_predict(clustering_data)"
   ]
  },
  {
   "cell_type": "code",
   "execution_count": 128,
   "metadata": {},
   "outputs": [
    {
     "data": {
      "text/plain": [
       "<matplotlib.collections.PathCollection at 0x249be6e1a00>"
      ]
     },
     "execution_count": 128,
     "metadata": {},
     "output_type": "execute_result"
    },
    {
     "data": {
      "image/png": "[encoded data removed]",
      "text/plain": [
       "<Figure size 432x288 with 1 Axes>"
      ]
     },
     "metadata": {
      "needs_background": "light"
     },
     "output_type": "display_data"
    }
   ],
   "source": [
    "plt.scatter(x=data[\"Annual Income (k$)\"],y = data[\"Spending Score (1-100)\"],c=y,cmap = \"rainbow\")\n"
   ]
  },
  {
   "cell_type": "markdown",
   "metadata": {},
   "source": [
    "# Hierarchical Clustering"
   ]
  },
  {
   "cell_type": "code",
   "execution_count": 53,
   "metadata": {},
   "outputs": [],
   "source": [
    "from sklearn.preprocessing import normalize"
   ]
  },
  {
   "cell_type": "code",
   "execution_count": 93,
   "metadata": {},
   "outputs": [],
   "source": [
    "data_new= pd.concat([data,cust], axis=1)"
   ]
  },
  {
   "cell_type": "code",
   "execution_count": 94,
   "metadata": {},
   "outputs": [
    {
     "data": {
      "text/html": [
       "<div>\n",
       "<style scoped>\n",
       "    .dataframe tbody tr th:only-of-type {\n",
       "        vertical-align: middle;\n",
       "    }\n",
       "\n",
       "    .dataframe tbody tr th {\n",
       "        vertical-align: top;\n",
       "    }\n",
       "\n",
       "    .dataframe thead th {\n",
       "        text-align: right;\n",
       "    }\n",
       "</style>\n",
       "<table border=\"1\" class=\"dataframe\">\n",
       "  <thead>\n",
       "    <tr style=\"text-align: right;\">\n",
       "      <th></th>\n",
       "      <th>CustomerID</th>\n",
       "      <th>Age</th>\n",
       "      <th>Annual Income (k$)</th>\n",
       "      <th>Spending Score (1-100)</th>\n",
       "      <th>Gender</th>\n",
       "    </tr>\n",
       "  </thead>\n",
       "  <tbody>\n",
       "    <tr>\n",
       "      <th>0</th>\n",
       "      <td>1</td>\n",
       "      <td>19</td>\n",
       "      <td>15.0</td>\n",
       "      <td>39</td>\n",
       "      <td>Male</td>\n",
       "    </tr>\n",
       "    <tr>\n",
       "      <th>1</th>\n",
       "      <td>2</td>\n",
       "      <td>21</td>\n",
       "      <td>15.0</td>\n",
       "      <td>81</td>\n",
       "      <td>Male</td>\n",
       "    </tr>\n",
       "    <tr>\n",
       "      <th>2</th>\n",
       "      <td>3</td>\n",
       "      <td>20</td>\n",
       "      <td>16.0</td>\n",
       "      <td>6</td>\n",
       "      <td>Female</td>\n",
       "    </tr>\n",
       "    <tr>\n",
       "      <th>3</th>\n",
       "      <td>4</td>\n",
       "      <td>23</td>\n",
       "      <td>16.0</td>\n",
       "      <td>77</td>\n",
       "      <td>Female</td>\n",
       "    </tr>\n",
       "    <tr>\n",
       "      <th>4</th>\n",
       "      <td>5</td>\n",
       "      <td>31</td>\n",
       "      <td>17.0</td>\n",
       "      <td>40</td>\n",
       "      <td>Female</td>\n",
       "    </tr>\n",
       "  </tbody>\n",
       "</table>\n",
       "</div>"
      ],
      "text/plain": [
       "   CustomerID  Age  Annual Income (k$)  Spending Score (1-100)  Gender\n",
       "0           1   19                15.0                      39    Male\n",
       "1           2   21                15.0                      81    Male\n",
       "2           3   20                16.0                       6  Female\n",
       "3           4   23                16.0                      77  Female\n",
       "4           5   31                17.0                      40  Female"
      ]
     },
     "execution_count": 94,
     "metadata": {},
     "output_type": "execute_result"
    }
   ],
   "source": [
    "data_new.head()"
   ]
  },
  {
   "cell_type": "code",
   "execution_count": 95,
   "metadata": {},
   "outputs": [],
   "source": [
    "data_new.loc[data_new['Gender']=='Male','Gender']= 0\n",
    "data_new.loc[data_new['Gender']=='Female','Gender']= 1"
   ]
  },
  {
   "cell_type": "code",
   "execution_count": 96,
   "metadata": {},
   "outputs": [],
   "source": [
    "data_scaled = normalize(data_new)"
   ]
  },
  {
   "cell_type": "code",
   "execution_count": 98,
   "metadata": {},
   "outputs": [],
   "source": [
    "data_scaled = pd.DataFrame(data_scaled, columns=data_new.columns)"
   ]
  },
  {
   "cell_type": "code",
   "execution_count": 99,
   "metadata": {},
   "outputs": [
    {
     "data": {
      "text/html": [
       "<div>\n",
       "<style scoped>\n",
       "    .dataframe tbody tr th:only-of-type {\n",
       "        vertical-align: middle;\n",
       "    }\n",
       "\n",
       "    .dataframe tbody tr th {\n",
       "        vertical-align: top;\n",
       "    }\n",
       "\n",
       "    .dataframe thead th {\n",
       "        text-align: right;\n",
       "    }\n",
       "</style>\n",
       "<table border=\"1\" class=\"dataframe\">\n",
       "  <thead>\n",
       "    <tr style=\"text-align: right;\">\n",
       "      <th></th>\n",
       "      <th>CustomerID</th>\n",
       "      <th>Age</th>\n",
       "      <th>Annual Income (k$)</th>\n",
       "      <th>Spending Score (1-100)</th>\n",
       "      <th>Gender</th>\n",
       "    </tr>\n",
       "  </thead>\n",
       "  <tbody>\n",
       "    <tr>\n",
       "      <th>0</th>\n",
       "      <td>0.021780</td>\n",
       "      <td>0.413826</td>\n",
       "      <td>0.326705</td>\n",
       "      <td>0.849433</td>\n",
       "      <td>0.000000</td>\n",
       "    </tr>\n",
       "    <tr>\n",
       "      <th>1</th>\n",
       "      <td>0.023520</td>\n",
       "      <td>0.246956</td>\n",
       "      <td>0.176397</td>\n",
       "      <td>0.952546</td>\n",
       "      <td>0.000000</td>\n",
       "    </tr>\n",
       "    <tr>\n",
       "      <th>2</th>\n",
       "      <td>0.113228</td>\n",
       "      <td>0.754851</td>\n",
       "      <td>0.603881</td>\n",
       "      <td>0.226455</td>\n",
       "      <td>0.037743</td>\n",
       "    </tr>\n",
       "    <tr>\n",
       "      <th>3</th>\n",
       "      <td>0.048755</td>\n",
       "      <td>0.280342</td>\n",
       "      <td>0.195020</td>\n",
       "      <td>0.938536</td>\n",
       "      <td>0.012189</td>\n",
       "    </tr>\n",
       "    <tr>\n",
       "      <th>4</th>\n",
       "      <td>0.093234</td>\n",
       "      <td>0.578052</td>\n",
       "      <td>0.316997</td>\n",
       "      <td>0.745874</td>\n",
       "      <td>0.018647</td>\n",
       "    </tr>\n",
       "    <tr>\n",
       "      <th>...</th>\n",
       "      <td>...</td>\n",
       "      <td>...</td>\n",
       "      <td>...</td>\n",
       "      <td>...</td>\n",
       "      <td>...</td>\n",
       "    </tr>\n",
       "    <tr>\n",
       "      <th>195</th>\n",
       "      <td>0.798286</td>\n",
       "      <td>0.142551</td>\n",
       "      <td>0.488747</td>\n",
       "      <td>0.321758</td>\n",
       "      <td>0.004073</td>\n",
       "    </tr>\n",
       "    <tr>\n",
       "      <th>196</th>\n",
       "      <td>0.821583</td>\n",
       "      <td>0.187671</td>\n",
       "      <td>0.525479</td>\n",
       "      <td>0.116773</td>\n",
       "      <td>0.004170</td>\n",
       "    </tr>\n",
       "    <tr>\n",
       "      <th>197</th>\n",
       "      <td>0.797894</td>\n",
       "      <td>0.128953</td>\n",
       "      <td>0.507751</td>\n",
       "      <td>0.298203</td>\n",
       "      <td>0.000000</td>\n",
       "    </tr>\n",
       "    <tr>\n",
       "      <th>198</th>\n",
       "      <td>0.940909</td>\n",
       "      <td>0.151302</td>\n",
       "      <td>0.290783</td>\n",
       "      <td>0.085107</td>\n",
       "      <td>0.000000</td>\n",
       "    </tr>\n",
       "    <tr>\n",
       "      <th>199</th>\n",
       "      <td>0.880696</td>\n",
       "      <td>0.132104</td>\n",
       "      <td>0.270814</td>\n",
       "      <td>0.365489</td>\n",
       "      <td>0.000000</td>\n",
       "    </tr>\n",
       "  </tbody>\n",
       "</table>\n",
       "<p>200 rows × 5 columns</p>\n",
       "</div>"
      ],
      "text/plain": [
       "     CustomerID       Age  Annual Income (k$)  Spending Score (1-100)  \\\n",
       "0      0.021780  0.413826            0.326705                0.849433   \n",
       "1      0.023520  0.246956            0.176397                0.952546   \n",
       "2      0.113228  0.754851            0.603881                0.226455   \n",
       "3      0.048755  0.280342            0.195020                0.938536   \n",
       "4      0.093234  0.578052            0.316997                0.745874   \n",
       "..          ...       ...                 ...                     ...   \n",
       "195    0.798286  0.142551            0.488747                0.321758   \n",
       "196    0.821583  0.187671            0.525479                0.116773   \n",
       "197    0.797894  0.128953            0.507751                0.298203   \n",
       "198    0.940909  0.151302            0.290783                0.085107   \n",
       "199    0.880696  0.132104            0.270814                0.365489   \n",
       "\n",
       "       Gender  \n",
       "0    0.000000  \n",
       "1    0.000000  \n",
       "2    0.037743  \n",
       "3    0.012189  \n",
       "4    0.018647  \n",
       "..        ...  \n",
       "195  0.004073  \n",
       "196  0.004170  \n",
       "197  0.000000  \n",
       "198  0.000000  \n",
       "199  0.000000  \n",
       "\n",
       "[200 rows x 5 columns]"
      ]
     },
     "execution_count": 99,
     "metadata": {},
     "output_type": "execute_result"
    }
   ],
   "source": [
    "data_scaled"
   ]
  },
  {
   "cell_type": "code",
   "execution_count": 100,
   "metadata": {},
   "outputs": [
    {
     "data": {
      "text/plain": [
       "(200, 5)"
      ]
     },
     "execution_count": 100,
     "metadata": {},
     "output_type": "execute_result"
    }
   ],
   "source": [
    "data_scaled.shape"
   ]
  },
  {
   "cell_type": "code",
   "execution_count": 101,
   "metadata": {},
   "outputs": [],
   "source": [
    "import scipy.cluster.hierarchy as hie"
   ]
  },
  {
   "cell_type": "code",
   "execution_count": 102,
   "metadata": {},
   "outputs": [
    {
     "data": {
      "image/png": "[encoded data removed]",
      "text/plain": [
       "<Figure size 720x504 with 1 Axes>"
      ]
     },
     "metadata": {
      "needs_background": "light"
     },
     "output_type": "display_data"
    }
   ],
   "source": [
    "plt.figure(figsize=(10,7))\n",
    "plt.title(\"Dendrogram\")\n",
    "dend = hie.dendrogram(hie.linkage(data_scaled, method='ward'))"
   ]
  },
  {
   "cell_type": "code",
   "execution_count": 103,
   "metadata": {},
   "outputs": [],
   "source": [
    "from sklearn.cluster import AgglomerativeClustering"
   ]
  },
  {
   "cell_type": "code",
   "execution_count": 124,
   "metadata": {},
   "outputs": [],
   "source": [
    "cluster = AgglomerativeClustering(n_clusters=3, affinity='euclidean', linkage='ward')"
   ]
  },
  {
   "cell_type": "code",
   "execution_count": 125,
   "metadata": {},
   "outputs": [
    {
     "data": {
      "text/plain": [
       "array([2, 2, 1, 2, 2], dtype=int64)"
      ]
     },
     "execution_count": 125,
     "metadata": {},
     "output_type": "execute_result"
    }
   ],
   "source": [
    "cluster.fit_predict(data_scaled)[:5]"
   ]
  },
  {
   "cell_type": "code",
   "execution_count": 126,
   "metadata": {},
   "outputs": [],
   "source": [
    "Y = cluster.fit_predict(clustering_data)"
   ]
  },
  {
   "cell_type": "code",
   "execution_count": 127,
   "metadata": {},
   "outputs": [
    {
     "data": {
      "text/plain": [
       "<matplotlib.collections.PathCollection at 0x249be51df10>"
      ]
     },
     "execution_count": 127,
     "metadata": {},
     "output_type": "execute_result"
    },
    {
     "data": {
      "image/png": "[encoded data removed]",
      "text/plain": [
       "<Figure size 720x504 with 1 Axes>"
      ]
     },
     "metadata": {
      "needs_background": "light"
     },
     "output_type": "display_data"
    }
   ],
   "source": [
    "plt.figure(figsize=(10,7))\n",
    "plt.scatter(x=data_scaled['Annual Income (k$)'],y=data_scaled['Spending Score (1-100)'], c=Y)"
   ]
  },
  {
   "cell_type": "code",
   "execution_count": null,
   "metadata": {},
   "outputs": [],
   "source": []
  },
  {
   "cell_type": "code",
   "execution_count": null,
   "metadata": {},
   "outputs": [],
   "source": []
  }
 ],
 "metadata": {
  "kernelspec": {
   "display_name": "Python 3",
   "language": "python",
   "name": "python3"
  },
  "language_info": {
   "codemirror_mode": {
    "name": "ipython",
    "version": 3
   },
   "file_extension": ".py",
   "mimetype": "text/x-python",
   "name": "python",
   "nbconvert_exporter": "python",
   "pygments_lexer": "ipython3",
   "version": "3.8.5"
  }
 },
 "nbformat": 4,
 "nbformat_minor": 4
}
